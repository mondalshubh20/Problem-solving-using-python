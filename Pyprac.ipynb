{
  "nbformat": 4,
  "nbformat_minor": 0,
  "metadata": {
    "colab": {
      "provenance": [],
      "authorship_tag": "ABX9TyOU9XiP6a7W5vd/6tbYyk41",
      "include_colab_link": true
    },
    "kernelspec": {
      "name": "python3",
      "display_name": "Python 3"
    },
    "language_info": {
      "name": "python"
    }
  },
  "cells": [
    {
      "cell_type": "markdown",
      "metadata": {
        "id": "view-in-github",
        "colab_type": "text"
      },
      "source": [
        "<a href=\"https://colab.research.google.com/github/mondalshubh20/Problem-solving-using-python/blob/main/Pyprac.ipynb\" target=\"_parent\"><img src=\"https://colab.research.google.com/assets/colab-badge.svg\" alt=\"Open In Colab\"/></a>"
      ]
    },
    {
      "cell_type": "markdown",
      "source": [
        " Sum of N Natural **Numbers**"
      ],
      "metadata": {
        "id": "8qYiMmKgmqn9"
      }
    },
    {
      "cell_type": "code",
      "execution_count": null,
      "metadata": {
        "colab": {
          "base_uri": "https://localhost:8080/"
        },
        "id": "VOME-6JFmmNf",
        "outputId": "a2a55483-7998-4e95-9ca7-03f8deb584ca"
      },
      "outputs": [
        {
          "output_type": "stream",
          "name": "stdout",
          "text": [
            "Enter the iteration:5\n",
            "15\n"
          ]
        }
      ],
      "source": [
        "nums=int(input(\"Enter the iteration:\"))\n",
        "sum=0\n",
        "for i in range(1,nums+1):\n",
        "  sum=sum+i\n",
        "print(sum)"
      ]
    },
    {
      "cell_type": "markdown",
      "source": [
        "**Factorial of a Number**"
      ],
      "metadata": {
        "id": "RFI3NU8zrg4v"
      }
    },
    {
      "cell_type": "code",
      "source": [
        "num=int(input(\"Enter the number:\"))\n",
        "fact=1\n",
        "for i in range(1,num+1):\n",
        "  fact*=i\n",
        "print(fact)"
      ],
      "metadata": {
        "colab": {
          "base_uri": "https://localhost:8080/"
        },
        "id": "7H0EnO-frnDK",
        "outputId": "3f7f5143-84f1-4f08-80d2-3dd6862baf4e"
      },
      "execution_count": null,
      "outputs": [
        {
          "output_type": "stream",
          "name": "stdout",
          "text": [
            "Enter the number:5\n",
            "120\n"
          ]
        }
      ]
    },
    {
      "cell_type": "markdown",
      "source": [
        "**Multiplication Table**"
      ],
      "metadata": {
        "id": "4onBcJAStbCw"
      }
    },
    {
      "cell_type": "code",
      "source": [
        "num=int(input(\"Enter the number:\"))\n",
        "for i in range(1,11):\n",
        "  print(f\"{num} * {i} = {num*i}\")"
      ],
      "metadata": {
        "colab": {
          "base_uri": "https://localhost:8080/"
        },
        "id": "xeKCsVCBtgls",
        "outputId": "56f5f36b-aa5f-47da-978c-174ae5b9b33c"
      },
      "execution_count": null,
      "outputs": [
        {
          "output_type": "stream",
          "name": "stdout",
          "text": [
            "Enter the number:3\n",
            "3 * 1 = 3\n",
            "3 * 2 = 6\n",
            "3 * 3 = 9\n",
            "3 * 4 = 12\n",
            "3 * 5 = 15\n",
            "3 * 6 = 18\n",
            "3 * 7 = 21\n",
            "3 * 8 = 24\n",
            "3 * 9 = 27\n",
            "3 * 10 = 30\n"
          ]
        }
      ]
    },
    {
      "cell_type": "markdown",
      "source": [
        "**Fibonacci Series**"
      ],
      "metadata": {
        "id": "zN3ZHixUv7Vi"
      }
    },
    {
      "cell_type": "code",
      "source": [
        "n = int(input(\"Enter the number of terms: \"))\n",
        "\n",
        "# Start with the first two Fibonacci numbers\n",
        "a = 0\n",
        "b = 1\n",
        "\n",
        "# Check if n is 1 or more to print the first number\n",
        "if n >= 1:\n",
        "    print(a, end=\" \")\n",
        "\n",
        "# Check if n is 2 or more to print the second number\n",
        "if n >= 2:\n",
        "    print(b, end=\" \")\n",
        "\n",
        "# For more than two terms, calculate the next terms in the series\n",
        "for i in range(2, n):\n",
        "    c = a + b  # Find the next number in the sequence\n",
        "    print(c, end=\" \")  # Print the next number\n",
        "    a = b  # Move `a` to the next number\n",
        "    b = c  # Move `b` to the next number\n"
      ],
      "metadata": {
        "colab": {
          "base_uri": "https://localhost:8080/"
        },
        "id": "gWvluvzgwWoM",
        "outputId": "cc17311f-e993-486d-a1eb-0577fbaa7fc7"
      },
      "execution_count": null,
      "outputs": [
        {
          "output_type": "stream",
          "name": "stdout",
          "text": [
            "Enter the number of terms: 5\n",
            "0 1 1 2 3 "
          ]
        }
      ]
    },
    {
      "cell_type": "markdown",
      "source": [
        "**Count Digits in a Number**"
      ],
      "metadata": {
        "id": "PHB79ceC4oIE"
      }
    },
    {
      "cell_type": "code",
      "source": [
        "num=int(input(\"Enter the number:\"))\n",
        "print(len(str((num))))"
      ],
      "metadata": {
        "colab": {
          "base_uri": "https://localhost:8080/"
        },
        "id": "FAYGpOZG4qHD",
        "outputId": "a69eb27b-d4c2-4917-aa1b-25983ca4c5bf"
      },
      "execution_count": null,
      "outputs": [
        {
          "output_type": "stream",
          "name": "stdout",
          "text": [
            "Enter the number:12\n",
            "2\n"
          ]
        }
      ]
    },
    {
      "cell_type": "markdown",
      "source": [
        "**Prime Numbers between Two Intervals**"
      ],
      "metadata": {
        "id": "s5M9y_7o6NMj"
      }
    },
    {
      "cell_type": "code",
      "source": [
        "num= int(input(\"enter the number to check: \"))\n",
        "if num>0:\n",
        "  for i in range(2,num):\n",
        "    if num%i==0:\n",
        "      print(\"not prime\")\n",
        "      break\n",
        "  else:\n",
        "    print(\"prime\")\n",
        "else:\n",
        "  print(\"not prime\")"
      ],
      "metadata": {
        "colab": {
          "base_uri": "https://localhost:8080/"
        },
        "id": "TIu5x88F7b2t",
        "outputId": "e5a2dece-ad6b-4145-d202-25fca804055f"
      },
      "execution_count": null,
      "outputs": [
        {
          "output_type": "stream",
          "name": "stdout",
          "text": [
            "enter the number to check: 3\n",
            "prime\n"
          ]
        }
      ]
    },
    {
      "cell_type": "markdown",
      "source": [
        "**Reverse a Number**"
      ],
      "metadata": {
        "id": "gACDalUc83Ac"
      }
    },
    {
      "cell_type": "code",
      "source": [
        "num=int(input(\"enter the number:\"))\n",
        "print(int(str(num)[::-1]))"
      ],
      "metadata": {
        "colab": {
          "base_uri": "https://localhost:8080/"
        },
        "id": "ANN5n2AD8pqA",
        "outputId": "2b3b3f24-827b-46f9-f160-b7c3d5967781"
      },
      "execution_count": null,
      "outputs": [
        {
          "output_type": "stream",
          "name": "stdout",
          "text": [
            "enter the number:125\n",
            "521\n"
          ]
        }
      ]
    },
    {
      "cell_type": "code",
      "source": [
        "n=int(input())\n",
        "for i in range(n):\n",
        "  for j in range(i+1):\n",
        "    print(\"*\",end=\" \")\n",
        "  print()\n",
        "\n"
      ],
      "metadata": {
        "id": "Q6JDBd3hADmy",
        "colab": {
          "base_uri": "https://localhost:8080/"
        },
        "outputId": "eb4050b3-1ab7-4ab9-bf5d-efc57d9bc4d3"
      },
      "execution_count": null,
      "outputs": [
        {
          "output_type": "stream",
          "name": "stdout",
          "text": [
            "5\n",
            "* \n",
            "* * \n",
            "* * * \n",
            "* * * * \n",
            "* * * * * \n"
          ]
        }
      ]
    },
    {
      "cell_type": "code",
      "source": [
        "n=int(input())\n",
        "for i in range(n):\n",
        "  for j in range(i,n):\n",
        "    print(\" \",end=\" \")\n",
        "  for k in range(i+1):\n",
        "    print(\"*\",end=\" \")\n",
        "  print()"
      ],
      "metadata": {
        "colab": {
          "base_uri": "https://localhost:8080/"
        },
        "id": "SKHLci1OSV3w",
        "outputId": "6ace8d85-a9b4-45fa-dd19-659f6634fa45"
      },
      "execution_count": null,
      "outputs": [
        {
          "output_type": "stream",
          "name": "stdout",
          "text": [
            "5\n",
            "          * \n",
            "        * * \n",
            "      * * * \n",
            "    * * * * \n",
            "  * * * * * \n"
          ]
        }
      ]
    },
    {
      "cell_type": "markdown",
      "source": [
        "**taking as string , converting to list of integers**"
      ],
      "metadata": {
        "id": "bGQXpxfouWQJ"
      }
    },
    {
      "cell_type": "code",
      "source": [
        "n=input(\"Enter the numbers: \")\n",
        "l=n.split()\n",
        "int_l=[]\n",
        "for i in l:\n",
        "  int_l.append(int(i))\n",
        "print(int_l)"
      ],
      "metadata": {
        "colab": {
          "base_uri": "https://localhost:8080/"
        },
        "id": "sXI2ltxxuc14",
        "outputId": "154b1c5b-1a75-4c46-dc41-06d4766282ca"
      },
      "execution_count": null,
      "outputs": [
        {
          "output_type": "stream",
          "name": "stdout",
          "text": [
            "Enter the numbers: 1 2 3 5 6 \n",
            "[1, 2, 3, 5, 6]\n"
          ]
        }
      ]
    },
    {
      "cell_type": "markdown",
      "source": [
        "**Remove Duplicates: Use a loop to remove duplicate elements from a list without using sets.**"
      ],
      "metadata": {
        "id": "LLJxwlW40DL7"
      }
    },
    {
      "cell_type": "code",
      "source": [
        "num=eval(input(\"Enter the list: \"))\n",
        "new_list=[]\n",
        "for i in num:\n",
        "  if i not in new_list:\n",
        "    new_list.append(i)\n",
        "print(new_list)"
      ],
      "metadata": {
        "colab": {
          "base_uri": "https://localhost:8080/"
        },
        "id": "_n8z79q60CpA",
        "outputId": "31a2768b-be5a-4b90-807f-4487623fb4be"
      },
      "execution_count": null,
      "outputs": [
        {
          "output_type": "stream",
          "name": "stdout",
          "text": [
            "Enter the list: [1,3,4,6,7,8,7,4]\n",
            "[1, 3, 4, 6, 7, 8]\n"
          ]
        }
      ]
    },
    {
      "cell_type": "markdown",
      "source": [
        "**Sum of digits**"
      ],
      "metadata": {
        "id": "wg7z-4Nb9afU"
      }
    },
    {
      "cell_type": "code",
      "source": [
        "num=int(input((\"enter the number: \")))\n",
        "num_s= str(num)\n",
        "sum=0\n",
        "for i in num_s:\n",
        "  sum+=int(i)\n",
        "print(f'the sum of  digits is: {sum}')"
      ],
      "metadata": {
        "colab": {
          "base_uri": "https://localhost:8080/"
        },
        "id": "bT37U1JI-ia2",
        "outputId": "701366c0-eaf0-4de0-9385-7403ab6a949d"
      },
      "execution_count": null,
      "outputs": [
        {
          "output_type": "stream",
          "name": "stdout",
          "text": [
            "enter the number: 68943\n",
            "the sum of  digits is: 30\n"
          ]
        }
      ]
    },
    {
      "cell_type": "code",
      "source": [
        "arr=[1,3,5,7,8]\n",
        "for i in range(len(arr)):\n",
        "  print(i)"
      ],
      "metadata": {
        "colab": {
          "base_uri": "https://localhost:8080/"
        },
        "id": "Q-Ysd4U5JsMS",
        "outputId": "25d725ac-7714-40cc-c803-4846cd2ee666"
      },
      "execution_count": null,
      "outputs": [
        {
          "output_type": "stream",
          "name": "stdout",
          "text": [
            "0\n",
            "1\n",
            "2\n",
            "3\n",
            "4\n"
          ]
        }
      ]
    },
    {
      "cell_type": "markdown",
      "source": [
        "**Bubble** *sort*"
      ],
      "metadata": {
        "id": "EZe65JtKCNYS"
      }
    },
    {
      "cell_type": "code",
      "source": [
        "def bubble_sort(arr):\n",
        "  size=len(arr)\n",
        "  for i in range(size-1): # the numbber of times the the iteration goes on.\n",
        "    for j in range(size-1):  #size-1 : comparing two elements at a time , when the iteratior in the last iteration if (size) then only one element left nothhing to compare with\n",
        "      if arr[j]> arr[j+1]:\n",
        "        temp=arr[j]\n",
        "        arr[j]=arr[j+1]\n",
        "        arr[j+1]=temp\n",
        "\n",
        "arr = [5, 3, 8, 4, 2]\n",
        "bubble_sort(arr)\n",
        "print(arr)\n"
      ],
      "metadata": {
        "colab": {
          "base_uri": "https://localhost:8080/"
        },
        "id": "e-N0z8RWCSZt",
        "outputId": "a5992f08-6ede-457d-be27-55aa36c1bdae"
      },
      "execution_count": null,
      "outputs": [
        {
          "output_type": "stream",
          "name": "stdout",
          "text": [
            "[2, 3, 4, 5, 8]\n"
          ]
        }
      ]
    },
    {
      "cell_type": "markdown",
      "source": [
        "*Rotate a list*"
      ],
      "metadata": {
        "id": "6c4l_SivoJT8"
      }
    },
    {
      "cell_type": "code",
      "source": [
        "def sum_s(arr):\n",
        "  sum=0\n",
        "  for i in arr:\n",
        "    sum+=i\n",
        "  return sum\n",
        "\n",
        "\n",
        "arr=[1,2,3,4,5]\n",
        "num= sum_s(arr)\n",
        "print(num)\n",
        "\n"
      ],
      "metadata": {
        "id": "_o1Odg5SoNhM",
        "colab": {
          "base_uri": "https://localhost:8080/"
        },
        "outputId": "4b952440-7108-4424-f47c-2b4b1202d4a2"
      },
      "execution_count": null,
      "outputs": [
        {
          "output_type": "stream",
          "name": "stdout",
          "text": [
            "15\n"
          ]
        }
      ]
    },
    {
      "cell_type": "markdown",
      "source": [
        "*Find Maximum among set of numbers*"
      ],
      "metadata": {
        "id": "tS30tiMdzj3H"
      }
    },
    {
      "cell_type": "code",
      "source": [
        "def max_of_two( x, y ):\n",
        "    if x > y:\n",
        "        return x\n",
        "    return y\n",
        "def max_of_three( x, y, z ):\n",
        "    return max_of_two( x, max_of_two( y, z ) )\n",
        "\n",
        "x = int(input())\n",
        "y = int(input())\n",
        "z = int(input())\n",
        "print(max_of_three(x,y,z))"
      ],
      "metadata": {
        "id": "cC_TvKyGzlYq"
      },
      "execution_count": null,
      "outputs": []
    },
    {
      "cell_type": "code",
      "source": [
        "'''\n",
        "Question 2 -\n",
        "User Authentication System with Limited Login Attempts\n",
        "Problem:\n",
        "Design a user authentication system where a user has a maximum of 3 login attempts.\n",
        "The system should prompt the user to input their username and password. If the credentials are correct, display a success message and exit the loop. If the credentials are incorrect, decrement the number of remaining attempts and inform the user. After 3 failed attempts, the system should lock the user out.\n",
        "\n",
        "Requirements:\n",
        "\n",
        "Use a while loop to allow the user to attempt login up to 3 times.\n",
        "Use an if-else condition to check if the username and password are correct.\n",
        "If the correct credentials are entered, break the loop and display a success message.\n",
        "After 3 incorrect attempts, display a message indicating the account is locked.\n",
        "\n",
        "Expected Output (sample):\n",
        "\n",
        "Enter username: user123\n",
        "Enter password: wrongpass\n",
        "Incorrect credentials. You have 2 attempts remaining.\n",
        "\n",
        "Enter username: user123\n",
        "Enter password: wrongpass\n",
        "Incorrect credentials. You have 1 attempt remaining.\n",
        "\n",
        "Enter username: user123\n",
        "Enter password: wrongpass\n",
        "Account locked due to too many failed login attempts.\n",
        "\n",
        "'''\n",
        "username = 'user123'\n",
        "password = 'pass123'\n",
        "attempts = 3\n",
        "\n",
        "while attempts > 0:\n",
        "    ui_username = input(\"Enter username: \")\n",
        "    ui_password = input(\"Enter password: \")\n",
        "\n",
        "    if ui_username == username and ui_password == password:\n",
        "        print(\"Login successful!\")\n",
        "        break\n",
        "    else:\n",
        "        attempts -= 1\n",
        "        print(f\"Incorrect credentials. You have {attempts} attempts remaining.\")\n",
        "        if attempts == 0:\n",
        "            print(\"Account locked due to too many failed login attempts.\")\n",
        "            break\n"
      ],
      "metadata": {
        "id": "2biCb2axztuE"
      },
      "execution_count": null,
      "outputs": []
    },
    {
      "cell_type": "markdown",
      "source": [
        "**You have an array containing n integers where the numbers are in the range 1 to n+1. There is exactly one number missing. Write a program to find the missing number using loops.**"
      ],
      "metadata": {
        "id": "58W-GTMIp9Od"
      }
    },
    {
      "cell_type": "code",
      "source": [
        "arr=eval(input(\"Enter the array: \"))\n",
        "for i in range (1,len(arr)+2):\n",
        "  if i not in arr:\n",
        "    print(i)\n"
      ],
      "metadata": {
        "colab": {
          "base_uri": "https://localhost:8080/"
        },
        "id": "7jqulq5fp7zZ",
        "outputId": "2f29120e-330c-471c-a32a-f402ae27a24b"
      },
      "execution_count": null,
      "outputs": [
        {
          "output_type": "stream",
          "name": "stdout",
          "text": [
            "Enter the array: [1,4,6,8,10]\n",
            "2\n",
            "3\n",
            "5\n"
          ]
        }
      ]
    },
    {
      "cell_type": "code",
      "source": [
        "'''\n",
        "Question 3 :\n",
        "Problem:\n",
        "The Collatz Conjecture is a sequence that starts with any positive integer n.\n",
        "Each subsequent term is obtained from the previous term as follows:\n",
        "\n",
        "If the previous term is even, the next term is one half of the previous term.\n",
        "If the previous term is odd, the next term is 3 times the previous term plus 1.\n",
        "The conjecture is that no matter what value of n, the sequence will eventually reach 1.\n",
        "Write a Python program that takes a positive integer n as input and prints the Collatz sequence starting from n until it reaches 1.\n",
        "\n",
        "Requirements:\n",
        "\n",
        "Use a while loop to generate and print the Collatz sequence.\n",
        "Use if-else conditions to apply the Collatz rules.\n",
        "\n",
        "Expected Output (sample):\n",
        "\n",
        "Enter a positive integer: 6\n",
        "6 -> 3 -> 10 -> 5 -> 16 -> 8 -> 4 -> 2 -> 1\n",
        "\n",
        "Hint : Use print(n, end = '->') in the logic to get the output\n",
        "'''\n",
        "\n",
        "num = int(input(\"Enter a positive integer: \"))\n",
        "\n",
        "while num != 1:\n",
        "    if num % 2 == 0:\n",
        "        num = num // 2\n",
        "    else:\n",
        "        num = num * 3 + 1\n",
        "\n",
        "    if num != 1:\n",
        "        print(num, end='->')\n",
        "    else:\n",
        "        print(num)\n",
        "\n",
        "\n"
      ],
      "metadata": {
        "id": "TdmcYUdGvvsj",
        "colab": {
          "base_uri": "https://localhost:8080/"
        },
        "outputId": "f74257e4-0914-41b2-f064-b775cfc02488"
      },
      "execution_count": null,
      "outputs": [
        {
          "output_type": "stream",
          "name": "stdout",
          "text": [
            "Enter a positive integer: 6\n",
            "3->10->5->16->8->4->2->1\n"
          ]
        }
      ]
    },
    {
      "cell_type": "markdown",
      "source": [
        "***Recurssion***"
      ],
      "metadata": {
        "id": "y6u6hLL5oYA2"
      }
    },
    {
      "cell_type": "code",
      "source": [
        "def fact(n):\n",
        "  if n==1:\n",
        "    return 1\n",
        "  else:\n",
        "    return n*fact(n-1)\n",
        "\n",
        "fact(5)"
      ],
      "metadata": {
        "colab": {
          "base_uri": "https://localhost:8080/"
        },
        "id": "7-oNF8wrof5U",
        "outputId": "2d8ada10-af6a-47de-fb3d-158d6f932459"
      },
      "execution_count": null,
      "outputs": [
        {
          "output_type": "execute_result",
          "data": {
            "text/plain": [
              "120"
            ]
          },
          "metadata": {},
          "execution_count": 4
        }
      ]
    },
    {
      "cell_type": "code",
      "source": [
        "''' sum of first n natural numbers using reccursion '''\n",
        "def sum(n):\n",
        "  if n==1:\n",
        "    return 1\n",
        "  else:\n",
        "    return n+sum(n-1)\n",
        "\n",
        "\n"
      ],
      "metadata": {
        "id": "9DtgLo0KyP4J"
      },
      "execution_count": null,
      "outputs": []
    },
    {
      "cell_type": "code",
      "source": [
        "# calculate the total count of each letter in a string\n",
        "\n",
        "\n",
        "_str= \"maango\"\n",
        "d={}\n",
        "for i in _str:\n",
        "  if i in d:\n",
        "    d[i]+=1\n",
        "  else:\n",
        "    d[i]=1\n",
        "print(d)\n"
      ],
      "metadata": {
        "colab": {
          "base_uri": "https://localhost:8080/"
        },
        "id": "smyB1TMIxm-r",
        "outputId": "aa3faa8a-a068-4f61-8b19-782b0cd161b8"
      },
      "execution_count": null,
      "outputs": [
        {
          "output_type": "stream",
          "name": "stdout",
          "text": [
            "{'m': 1, 'a': 2, 'n': 1, 'g': 1, 'o': 1}\n"
          ]
        }
      ]
    },
    {
      "cell_type": "code",
      "source": [
        "def even(num):\n",
        "  for i in num:\n",
        "    if i%2 !=0:\n",
        "      num.remove(i)\n",
        "  return num\n",
        "num=[1,2,3,4,5,6,7,8,9]\n",
        "even(num)"
      ],
      "metadata": {
        "colab": {
          "base_uri": "https://localhost:8080/"
        },
        "id": "RWOvbIdk18Va",
        "outputId": "4f14b403-943e-447d-c527-e390bb7f894c"
      },
      "execution_count": null,
      "outputs": [
        {
          "output_type": "execute_result",
          "data": {
            "text/plain": [
              "[2, 4, 6, 8]"
            ]
          },
          "metadata": {},
          "execution_count": 2
        }
      ]
    },
    {
      "cell_type": "code",
      "source": [
        "'''When we work on Data Science projects, we start with Data Cleaning i.e removing all rows where the features have NA/None values. This is done to achieve maximum accuracy from our prediction models. So, write a Python program to remove None value from a given list. (Using list comprehension)'''\n",
        "nums = eval(input())\n",
        "lst=[]\n",
        "for i in nums:\n",
        "  if i!=None:\n",
        "    lst.append(i)\n",
        "print(lst)"
      ],
      "metadata": {
        "colab": {
          "base_uri": "https://localhost:8080/"
        },
        "id": "IhTxSTRw3NqR",
        "outputId": "6e9bfe6b-92eb-4512-f601-5f146c23e00e"
      },
      "execution_count": null,
      "outputs": [
        {
          "output_type": "stream",
          "name": "stdout",
          "text": [
            "[12, 0, None, 23, None, -55, 234, 89, None, 0, 6, -12]\n",
            "[12, 0, 23, -55, 234, 89, 0, 6, -12]\n"
          ]
        }
      ]
    },
    {
      "cell_type": "code",
      "source": [
        "'''Mr. Alberto wants to remove some numbers from the list of numbers to test his equation for numerical research. So, write a Python program to help him to remove all elements from a given list present in another list. (Using list comprehension)'''\n",
        "list1 = eval(input())\n",
        "list2 = eval(input())\n",
        "lst=[]\n",
        "for i in list1:\n",
        "  if i not in list2:\n",
        "    lst.append(i)\n",
        "print(lst)"
      ],
      "metadata": {
        "id": "utY7qEri5VX_"
      },
      "execution_count": null,
      "outputs": []
    },
    {
      "cell_type": "code",
      "source": [
        "''' Write a function to iterate over a list and mention the grade of the marks in the list'''\n",
        "mark = eval(input())\n",
        "def marks(mark):\n",
        "  lst=[]\n",
        "  for i in mark:\n",
        "    if i>90:\n",
        "      lst.append(\"A\")\n",
        "    elif i>80:\n",
        "      lst.append(\"B\")\n",
        "    elif i>70:\n",
        "      lst.append(\"C\")\n",
        "    else:\n",
        "      lst.append(\"D\")\n",
        "  return lst\n",
        "marks(mark)"
      ],
      "metadata": {
        "colab": {
          "base_uri": "https://localhost:8080/"
        },
        "id": "OlAb9y5OaAkI",
        "outputId": "e9d67e1b-67d5-4c68-d8f3-bcce87a5ba3e"
      },
      "execution_count": null,
      "outputs": [
        {
          "name": "stdout",
          "output_type": "stream",
          "text": [
            "[90,65,89,98]\n"
          ]
        },
        {
          "output_type": "execute_result",
          "data": {
            "text/plain": [
              "['B', 'D', 'B', 'A']"
            ]
          },
          "metadata": {},
          "execution_count": 13
        }
      ]
    },
    {
      "cell_type": "code",
      "source": [
        "print([i.lower()for i in \"HELLO\"])"
      ],
      "metadata": {
        "colab": {
          "base_uri": "https://localhost:8080/"
        },
        "id": "amHbBJzFep-3",
        "outputId": "a17c0cde-7e6d-4e52-de89-cae24ed928e3"
      },
      "execution_count": null,
      "outputs": [
        {
          "output_type": "stream",
          "name": "stdout",
          "text": [
            "['h', 'e', 'l', 'l', 'o']\n"
          ]
        }
      ]
    },
    {
      "cell_type": "code",
      "source": [
        "# example of map()\n",
        "\n",
        "lst=[1,2,3,4,5]\n",
        "def square(x):\n",
        "  return x**2\n",
        "print(list(map(square,lst)))\n",
        "\n",
        "#another example with lamda function\n",
        "\n",
        "lst2=[6,7,8,9,10]\n",
        "print(list(map(lambda x,y:x+y,lst,lst2)))\n",
        "\n",
        "\n",
        "# example of list comprehension\n",
        "lst3=[11,12,13,14,15]\n",
        "print([i+2 for i in lst3])\n",
        "\n",
        "\n",
        "#another example of example of list comprehension (hard)\n",
        "\n",
        "lst4=[[1,2,3],[4,5,6],[7,8,9]]\n",
        "print([j for i in lst4 for j in i])\n",
        "\n",
        "'''\n",
        "lst4 = [[1, 2, 3], [4, 5, 6], [7, 8, 9]]\n",
        "flattened_list = []\n",
        "\n",
        "for sublist in lst4:\n",
        "    for item in sublist:\n",
        "        flattened_list.append(item)\n",
        "\n",
        "print(flattened_list)''' # this is the demonstration of the above written code\n"
      ],
      "metadata": {
        "colab": {
          "base_uri": "https://localhost:8080/"
        },
        "id": "ak_X8SWihwgO",
        "outputId": "37a077e9-9238-4caf-8636-15274191afcd"
      },
      "execution_count": null,
      "outputs": [
        {
          "output_type": "stream",
          "name": "stdout",
          "text": [
            "[1, 4, 9, 16, 25]\n",
            "[7, 9, 11, 13, 15]\n",
            "[13, 14, 15, 16, 17]\n",
            "[1, 2, 3, 4, 5, 6, 7, 8, 9]\n"
          ]
        }
      ]
    },
    {
      "cell_type": "code",
      "source": [
        "dict1={i:i**2 for i in range(1,11)if i%2==0}\n",
        "print(dict1)"
      ],
      "metadata": {
        "colab": {
          "base_uri": "https://localhost:8080/"
        },
        "id": "IVPM2NI-pPlL",
        "outputId": "984a36d3-39c9-4e7d-cdc0-081c8a0f6da0"
      },
      "execution_count": null,
      "outputs": [
        {
          "output_type": "stream",
          "name": "stdout",
          "text": [
            "{2: 4, 4: 16, 6: 36, 8: 64, 10: 100}\n"
          ]
        }
      ]
    },
    {
      "cell_type": "markdown",
      "source": [
        "We usually use ATM's to withdraw money from the bank, What logic they use in the ATMs. Let's crack this."
      ],
      "metadata": {
        "id": "RUkFKUGAMUkj"
      }
    },
    {
      "cell_type": "code",
      "source": [
        "# Take inputs for the note denomination and withdrawal amount\n",
        "n1 = int(input(\"Enter the denomination of Note 1: \"))\n",
        "\n",
        "# Ask if there is a second note denomination\n",
        "use_second_note = input(\"Do you have a second note denomination? (yes/no): \").strip().lower()\n",
        "\n",
        "if use_second_note == \"yes\":\n",
        "    # Take input for the second note denomination if available\n",
        "    n2 = int(input(\"Enter the denomination of Note 2: \"))\n",
        "\n",
        "withdraw = int(input(\"Enter the amount to withdraw: \"))\n",
        "\n",
        "\n",
        "# Check if the withdrawal amount is a multiple of 100\n",
        "if withdraw % 100 == 0:\n",
        "    # Calculate quotient and remainder for the first note\n",
        "    quo = withdraw // n1\n",
        "    rem = withdraw % n1\n",
        "\n",
        "    # If there’s a remainder and a second note is available\n",
        "    if use_second_note == \"yes\" and rem != 0:\n",
        "        # Check if the remainder can be exactly divided by the second note\n",
        "        if rem % n2 == 0:\n",
        "            quo2 = rem // n2\n",
        "            print(f\"Withdrawn:\\n{n1} rupee note x {quo}\\n{n2} rupee note x {quo2}\")\n",
        "        else:\n",
        "            print(f\"The amount {withdraw} cannot be withdrawn exactly with {n1} and {n2} denominations. Please enter a different amount.\")\n",
        "\n",
        "    # If no second note and there's a remainder, notify the user\n",
        "    elif rem != 0:\n",
        "        print(f\"The amount {withdraw} cannot be withdrawn exactly with only {n1} rupee notes. Please enter a different amount.\")\n",
        "\n",
        "    # If there is no remainder, it means the amount can be withdrawn with `n1` only\n",
        "    else:\n",
        "        print(f\"Withdrawn:\\n{n1} rupee note x {quo}\")\n",
        "else:\n",
        "    print(f\"The amount {withdraw} is not a multiple of 100. Please enter a valid amount.\")\n"
      ],
      "metadata": {
        "colab": {
          "base_uri": "https://localhost:8080/"
        },
        "id": "chLLDo2YMS3J",
        "outputId": "321a2a3a-3525-46d3-c94d-722e383f6b28"
      },
      "execution_count": 17,
      "outputs": [
        {
          "output_type": "stream",
          "name": "stdout",
          "text": [
            "Enter the denomination of Note 1: 500\n",
            "Do you have a second note denomination? (yes/no): yes\n",
            "Enter the denomination of Note 2: 100\n",
            "Enter the amount to withdraw: 2800\n",
            "Withdrawn:\n",
            "500 rupee note x 5\n",
            "100 rupee note x 3\n"
          ]
        }
      ]
    },
    {
      "cell_type": "code",
      "source": [
        "a=1600//500\n",
        "a"
      ],
      "metadata": {
        "colab": {
          "base_uri": "https://localhost:8080/"
        },
        "id": "5gEFdKJWWtc7",
        "outputId": "c8464641-5c3e-41db-938e-093c1ab3b66b"
      },
      "execution_count": 3,
      "outputs": [
        {
          "output_type": "execute_result",
          "data": {
            "text/plain": [
              "3"
            ]
          },
          "metadata": {},
          "execution_count": 3
        }
      ]
    }
  ]
}